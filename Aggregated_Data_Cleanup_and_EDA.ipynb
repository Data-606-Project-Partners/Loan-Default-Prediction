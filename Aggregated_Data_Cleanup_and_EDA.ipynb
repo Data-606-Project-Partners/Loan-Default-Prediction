{
  "nbformat": 4,
  "nbformat_minor": 0,
  "metadata": {
    "colab": {
      "provenance": [],
      "toc_visible": true
    },
    "kernelspec": {
      "name": "python3",
      "display_name": "Python 3"
    },
    "language_info": {
      "name": "python"
    }
  },
  "cells": [
    {
      "cell_type": "markdown",
      "source": [
        "# Aggregated Data Cleanup and EDA"
      ],
      "metadata": {
        "id": "FI7GV9bK3ALK"
      }
    },
    {
      "cell_type": "markdown",
      "source": [
        "## Data Cleanup"
      ],
      "metadata": {
        "id": "Bgs1ExpYUtp3"
      }
    },
    {
      "cell_type": "code",
      "execution_count": 2,
      "metadata": {
        "colab": {
          "base_uri": "https://localhost:8080/"
        },
        "id": "RUDAljcp29Nz",
        "outputId": "adbf8435-7ac6-4ad9-bb94-4802cc3694c5",
        "cellView": "form"
      },
      "outputs": [
        {
          "output_type": "stream",
          "name": "stdout",
          "text": [
            "Mounted at /content/drive\n"
          ]
        },
        {
          "output_type": "stream",
          "name": "stderr",
          "text": [
            "<ipython-input-2-3174d330ae7e>:15: DtypeWarning: Columns (20) have mixed types. Specify dtype option on import or set low_memory=False.\n",
            "  loan_data = pd.read_csv(file_path)\n"
          ]
        }
      ],
      "source": [
        "# @title Importing the Data\n",
        "\n",
        "import numpy as np\n",
        "import pandas as pd\n",
        "import seaborn as sns\n",
        "import matplotlib.pyplot as plt\n",
        "import plotly.express as px\n",
        "\n",
        "from google.colab import drive\n",
        "drive.mount('/content/drive')\n",
        "# Specify the path to the file\n",
        "file_path = '/content/drive/My Drive/loan_data_2007_2014.csv'\n",
        "\n",
        "# Read the CSV file into a DataFrame\n",
        "loan_data = pd.read_csv(file_path)\n",
        "\n",
        "#with pd.option_context('display.max_columns', None):\n",
        "#  display(loan_data.head(5))"
      ]
    },
    {
      "cell_type": "code",
      "source": [
        "# @title Basic Transformations to Make Our Data Represent Our Problem\n",
        "\n",
        "## Drop all-null columns (17 columns)\n",
        "loan_data = loan_data.dropna(axis = 'columns', how = 'all')\n",
        "\n",
        "## Merge the \"Does not meet the credit policy\" values into their respective simpler names\n",
        "loan_data['loan_status'] = np.where((loan_data['loan_status'] == \"Does not meet the credit policy. Status:Fully Paid\"), \"Fully Paid\", loan_data['loan_status'])\n",
        "loan_data['loan_status'] = np.where((loan_data['loan_status'] == \"Does not meet the credit policy. Status:Charged Off\"), \"Charged Off\", loan_data['loan_status'])\n",
        "\n",
        "## Well rip that we actually do have defaults in our loans, but our model will still be a proof of concept just as well.\n",
        "## Merge these two together (it's only ~800 defaults)\n",
        "loan_data['loan_status'] = np.where((loan_data['loan_status'] == \"Default\"), \"Charged Off\", loan_data['loan_status'])"
      ],
      "metadata": {
        "id": "NEXFa6X33oYT",
        "cellView": "form"
      },
      "execution_count": 3,
      "outputs": []
    },
    {
      "cell_type": "code",
      "source": [
        "# @title Clean data columns to what we can actually use\n",
        "\n",
        "## Ignore in-progress loans since only completed loans yet have an outcome\n",
        "loan_cleanup = loan_data.query('loan_status != \"Current\"').reset_index().drop(columns = ['index'])\n",
        "\n",
        "## Drop unusable columns (11 columns)\n",
        "loan_cleanup = loan_cleanup.drop(columns = [\"Unnamed: 0\", \"id\", \"member_id\", \"url\", \"desc\", \"emp_title\",\"recoveries\" ,\"collection_recovery_fee\", \"pymnt_plan\", \"out_prncp\",'out_prncp_inv'])\n",
        "\n",
        "## Drop columns with single values (combined objects and floats code) (3 columns)\n",
        "loan_cleanup = loan_cleanup.drop(columns = [\"title\", \"application_type\", 'policy_code'])\n",
        "\n",
        "## Drop columns with obvious causal correlation to other columns (keep 1 column for each correlation \"relationship\") (4 columns)\n",
        "loan_cleanup.drop(['loan_amnt','funded_amnt_inv','grade','total_pymnt_inv'], axis = 1,inplace = True)\n",
        "\n",
        "## At this point we should have 40 columns ##\n",
        "\n",
        "\n",
        "## Convert dates to actual dates  **Days can be ignored\n",
        "loan_cleanup['earliest_cr_line'].fillna(loan_cleanup['issue_d'],inplace= True) ## Fill nulls with when the loan was initiated\n",
        "loan_cleanup['earliest_cr_line'] = pd.to_datetime(loan_data['earliest_cr_line'], format='%b-%y',errors='coerce')\n",
        "\n",
        "loan_cleanup['issue_d'] = pd.to_datetime(loan_data['issue_d'], format='%b-%y',errors='coerce')\n",
        "loan_cleanup['last_pymnt_d'] = pd.to_datetime(loan_data['last_pymnt_d'], format='%b-%y',errors='coerce')  ## Nulls left untouched\n",
        "loan_cleanup['next_pymnt_d'] = pd.to_datetime(loan_data['next_pymnt_d'], format='%b-%y',errors='coerce')  ## Nulls left untouched\n",
        "\n",
        "loan_cleanup['last_credit_pull_d'].fillna('Jan-16', inplace = True) ## Date this place stated publishing data\n",
        "loan_cleanup['last_credit_pull_d'] = pd.to_datetime(loan_data['last_credit_pull_d'], format='%b-%y',errors='coerce')\n",
        "\n",
        "##  Transform term to an int\n",
        "loan_cleanup['term'] = pd.to_numeric(loan_cleanup['term'].str.extract('(\\d+)')[0])     ## Thank you Vishnu\n",
        "\n",
        "\n",
        "## Replace null values with reasonable approximations\n",
        "loan_cleanup['emp_length'].fillna('< 1 year', inplace = True)\n",
        "\n",
        "loan_cleanup['annual_inc'].fillna(loan_cleanup['annual_inc'].median(), inplace=True)  ## Used Common Value rather than 0\n",
        "##loan_cleanup['annual_inc'].fillna(0, inplace = True)\n",
        "\n",
        "loan_cleanup['delinq_2yrs'].fillna(0, inplace =  True)\n",
        "loan_cleanup['inq_last_6mths'].fillna(0, inplace =  True)\n",
        "loan_cleanup['open_acc'].fillna(1, inplace =  True)\n",
        "loan_cleanup['pub_rec'].fillna(0, inplace =  True)\n",
        "loan_cleanup['total_acc'].fillna(1, inplace =  True)\n",
        "loan_cleanup['acc_now_delinq'].fillna(0, inplace =  True)\n",
        "#loan_cleanup['mths_since_last_delinq']\n",
        "#loan_cleanup['mths_since_last_record']\n",
        "loan_cleanup['revol_util'].fillna(58.0, inplace =  True)\n",
        "loan_cleanup['collections_12_mths_ex_med'].fillna(0,inplace = True)\n",
        "#loan_cleanup['mths_since_last_major_derog']\n",
        "loan_cleanup['tot_coll_amt'].fillna(0, inplace = True)\n",
        "loan_cleanup['tot_cur_bal'].fillna(0, inplace = True)\n",
        "loan_cleanup['total_rev_hi_lim'].fillna(loan_cleanup['funded_amnt'], inplace = True)\n",
        "\n",
        "\n",
        "## Added Cleanup Steps ##\n",
        "\n",
        "## Fixes decimal imprecision in this column specifically for some reason\n",
        "loan_cleanup['total_pymnt'] = loan_cleanup['total_pymnt'].round(2)\n",
        "\n",
        "# Moves forward the target column so that it can be viewed more easily\n",
        "loan_cleanup.insert(2, 'loan_status', loan_cleanup.pop('loan_status'))\n",
        "\n",
        "## Exploratory Trend Analysis Columns ( +9 Columns )\n",
        "loan_cleanup.insert(loan_cleanup.columns.get_loc('dti') + 1, 'loan_to_income_ratio', loan_cleanup['funded_amnt'] / loan_cleanup['annual_inc'])\n",
        "loan_cleanup.insert(loan_cleanup.columns.get_loc('dti') + 1, 'installment_to_income_ratio', loan_cleanup['installment'] / loan_cleanup['annual_inc'])\n",
        "## Adds a column to show us how much money we lost by allowing this loan.\n",
        "## THIS NUMBER IS [BOTTOM] CAPPED AT 0. ##\n",
        "loan_cleanup.insert(loan_cleanup.columns.get_loc('funded_amnt') + 1,\n",
        "                    'loss_on_investment',\n",
        "                    np.minimum(0,\n",
        "                              ## The two methods of calculating losses should be identical, yet aren't.  Here we're assuming the largest possible loss is accurate.\n",
        "                              loan_cleanup['total_pymnt'] - loan_cleanup['funded_amnt'],\n",
        "                              loan_cleanup['total_rec_prncp'] + loan_cleanup['total_rec_int'] - loan_cleanup['funded_amnt']\n",
        "                              )\n",
        "                    )\n",
        "# Splitting the issue date column into its constituent parts month and year (previously represented as Dec-11, now as [12] and [2011]).  Allows for month-level analysis.\n",
        "loan_cleanup.insert(loan_cleanup.columns.get_loc('issue_d') + 1, 'issue_month', loan_cleanup['issue_d'].dt.month)\n",
        "loan_cleanup.insert(loan_cleanup.columns.get_loc('issue_d') + 1, 'issue_year', loan_cleanup['issue_d'].dt.year)\n",
        "loan_cleanup.drop(columns=['issue_d'], inplace = True)\n",
        "\n",
        "\n",
        "\n",
        "# For columns with nulls intentionally left in, keeps a boolean record of them in case it's useful for models\n",
        "loan_cleanup.insert(loan_cleanup.columns.get_loc('mths_since_last_delinq') + 1 , 'has_delinq', loan_cleanup['mths_since_last_delinq'].notnull())\n",
        "loan_cleanup.insert(loan_cleanup.columns.get_loc('mths_since_last_record') + 1 , 'has_record', loan_cleanup['mths_since_last_record'].notnull())\n",
        "loan_cleanup.insert(loan_cleanup.columns.get_loc('last_pymnt_d') + 1 , 'has_last_pymnt_d', loan_cleanup['last_pymnt_d'].notnull())\n",
        "loan_cleanup.insert(loan_cleanup.columns.get_loc('next_pymnt_d') + 1 , 'has_next_pymnt_d', loan_cleanup['next_pymnt_d'].notnull())\n",
        "loan_cleanup.insert(loan_cleanup.columns.get_loc('mths_since_last_major_derog') + 1 , 'has_derog', loan_cleanup['mths_since_last_major_derog'].notnull())\n",
        "\n",
        "## Should now be at 49 columns ##\n",
        "\n",
        "loan_cleanup.info()"
      ],
      "metadata": {
        "id": "yX7giiHD3ens",
        "colab": {
          "base_uri": "https://localhost:8080/"
        },
        "cellView": "form",
        "outputId": "1f66e3d6-6058-45da-ae54-ca878c73621e"
      },
      "execution_count": 4,
      "outputs": [
        {
          "output_type": "stream",
          "name": "stdout",
          "text": [
            "<class 'pandas.core.frame.DataFrame'>\n",
            "RangeIndex: 242059 entries, 0 to 242058\n",
            "Data columns (total 50 columns):\n",
            " #   Column                       Non-Null Count   Dtype         \n",
            "---  ------                       --------------   -----         \n",
            " 0   index                        242059 non-null  int64         \n",
            " 1   funded_amnt                  242059 non-null  int64         \n",
            " 2   loss_on_investment           242059 non-null  float64       \n",
            " 3   loan_status                  242059 non-null  object        \n",
            " 4   term                         242059 non-null  int64         \n",
            " 5   int_rate                     242059 non-null  float64       \n",
            " 6   installment                  242059 non-null  float64       \n",
            " 7   sub_grade                    242059 non-null  object        \n",
            " 8   emp_length                   242059 non-null  object        \n",
            " 9   home_ownership               242059 non-null  object        \n",
            " 10  annual_inc                   242059 non-null  float64       \n",
            " 11  verification_status          242059 non-null  object        \n",
            " 12  issue_year                   242059 non-null  int64         \n",
            " 13  issue_month                  242059 non-null  int64         \n",
            " 14  purpose                      242059 non-null  object        \n",
            " 15  zip_code                     242059 non-null  object        \n",
            " 16  addr_state                   242059 non-null  object        \n",
            " 17  dti                          242059 non-null  float64       \n",
            " 18  installment_to_income_ratio  242059 non-null  float64       \n",
            " 19  loan_to_income_ratio         242059 non-null  float64       \n",
            " 20  delinq_2yrs                  242059 non-null  float64       \n",
            " 21  earliest_cr_line             242030 non-null  datetime64[ns]\n",
            " 22  inq_last_6mths               242059 non-null  float64       \n",
            " 23  mths_since_last_delinq       107096 non-null  float64       \n",
            " 24  has_delinq                   242059 non-null  bool          \n",
            " 25  mths_since_last_record       29399 non-null   float64       \n",
            " 26  has_record                   242059 non-null  bool          \n",
            " 27  open_acc                     242059 non-null  float64       \n",
            " 28  pub_rec                      242059 non-null  float64       \n",
            " 29  revol_bal                    242059 non-null  int64         \n",
            " 30  revol_util                   242059 non-null  float64       \n",
            " 31  total_acc                    242059 non-null  float64       \n",
            " 32  initial_list_status          242059 non-null  object        \n",
            " 33  total_pymnt                  242059 non-null  float64       \n",
            " 34  total_rec_prncp              242059 non-null  float64       \n",
            " 35  total_rec_int                242059 non-null  float64       \n",
            " 36  total_rec_late_fee           242059 non-null  float64       \n",
            " 37  last_pymnt_d                 241818 non-null  datetime64[ns]\n",
            " 38  has_last_pymnt_d             242059 non-null  bool          \n",
            " 39  last_pymnt_amnt              242059 non-null  float64       \n",
            " 40  next_pymnt_d                 81506 non-null   datetime64[ns]\n",
            " 41  has_next_pymnt_d             242059 non-null  bool          \n",
            " 42  last_credit_pull_d           242044 non-null  datetime64[ns]\n",
            " 43  collections_12_mths_ex_med   242059 non-null  float64       \n",
            " 44  mths_since_last_major_derog  43419 non-null   float64       \n",
            " 45  has_derog                    242059 non-null  bool          \n",
            " 46  acc_now_delinq               242059 non-null  float64       \n",
            " 47  tot_coll_amt                 242059 non-null  float64       \n",
            " 48  tot_cur_bal                  242059 non-null  float64       \n",
            " 49  total_rev_hi_lim             242059 non-null  float64       \n",
            "dtypes: bool(5), datetime64[ns](4), float64(26), int64(6), object(9)\n",
            "memory usage: 84.3+ MB\n"
          ]
        }
      ]
    },
    {
      "cell_type": "markdown",
      "source": [
        "## Original Visualizations"
      ],
      "metadata": {
        "id": "wto47_8xQLvp"
      }
    },
    {
      "cell_type": "code",
      "source": [
        "# @title Plotting the original distributions\n",
        "\n",
        "import matplotlib.pyplot as plt\n",
        "\n",
        "fig, ax = plt.subplots(1, 2, figsize=(12, 5))\n",
        "sns.histplot(loan_cleanup['funded_amnt'], bins=30, kde=True, ax=ax[0])\n",
        "ax[0].set_title('Original Distribution of loan_amnt')\n",
        "sns.histplot(loan_cleanup['annual_inc'], bins=30, kde=True, ax=ax[1])\n",
        "ax[1].set_title('Original Distribution of annual_inc')\n",
        "plt.show()"
      ],
      "metadata": {
        "cellView": "form",
        "id": "Ua-dPFHFAHJy"
      },
      "execution_count": null,
      "outputs": []
    },
    {
      "cell_type": "code",
      "source": [
        "# @title Binning can catogorize continous variables into discrete categories\n",
        "bins = pd.cut(loan_cleanup['funded_amnt'], bins=3, labels=[\"Low\", \"Medium\", \"High\"])\n",
        "sns.countplot(x=bins).set_title('Binned loan_amnt')\n",
        "plt.show()"
      ],
      "metadata": {
        "cellView": "form",
        "id": "b8yfrGYiQV3p"
      },
      "execution_count": null,
      "outputs": []
    },
    {
      "cell_type": "code",
      "source": [
        "# @title Is there a relationship between loan amount and interest rate?\n",
        "# Loan Amount vs. Interest Rate by Loan Grade\n",
        "plt.figure(figsize=(10, 6))\n",
        "sns.scatterplot(x='funded_amnt', y='int_rate', hue=loan_cleanup['sub_grade'].str.slice(0,1), data=loan_cleanup.sample(10000))\n",
        "plt.title('Loan Amount vs. Interest Rate by Loan Grade')\n",
        "plt.xlabel('Loan Amount')\n",
        "plt.ylabel('Interest Rate')\n",
        "plt.show()"
      ],
      "metadata": {
        "cellView": "form",
        "id": "Libt9bCOQZQS"
      },
      "execution_count": null,
      "outputs": []
    },
    {
      "cell_type": "code",
      "source": [
        "# @title How does the loan status vary across different loan grades?\n",
        "plt.figure(figsize=(16, 8))\n",
        "ax = sns.countplot(x=loan_cleanup['sub_grade'].str.slice(0,1), hue='loan_status', data=loan_cleanup)\n",
        "\n",
        "plt.title('Loan Status by Loan Grade')\n",
        "plt.xlabel('Loan Grade')\n",
        "plt.ylabel('Count (Log)')\n",
        "plt.yscale('log')\n",
        "plt.legend(title='Loan Status')\n",
        "\n",
        "# Manually annotate each bar with its count\n",
        "for p in ax.patches:\n",
        "    height = p.get_height() if p.get_height() == p.get_height() else 0 # Handle NaN values\n",
        "    ax.annotate(format(height, '.0f'), (p.get_x() + p.get_width() / 2., height), ha = 'center', va = 'center',\n",
        "                xytext = (0, 5), textcoords = 'offset points', rotation = 'vertical')\n",
        "\n",
        "plt.show()"
      ],
      "metadata": {
        "cellView": "form",
        "id": "QYVvcWynQcqE"
      },
      "execution_count": null,
      "outputs": []
    },
    {
      "cell_type": "code",
      "source": [
        "# @title Vishnu's Justification for Variable Scaling\n",
        "\n",
        "\n",
        "\n",
        "# Handling outliers (winsorization)\n",
        "from scipy.stats.mstats import winsorize\n",
        "from sklearn.preprocessing import MinMaxScaler\n",
        "#loan_cleanup['win_annual_inc'] = winsorize(loan_cleanup['annual_inc'], limits=[0.05, 0.05])   #A# 43225 values changed.  Final Range: 28,000 - 150,000\n",
        "#loan_cleanup['win_revol_bal'] = winsorize(loan_cleanup['revol_bal'], limits=[0.05, 0.05])     #A# 46617 values changed.  Final Range: 1,955 - 40,953\n",
        "\n",
        "#loan_cleanup['log_funded_amnt'] = np.log1p(loan_cleanup['funded_amnt'])                               #A# This looks pretty skewed, too, though, just in the opposite direction\n",
        "#loan_cleanup['log_annual_inc'] = np.log1p(loan_cleanup['annual_inc'])                                 #A# This looks pretty good for annual_inc\n",
        "#loan_cleanup['log_revol_bal'] = np.log1p(loan_cleanup['revol_bal'])                                   #A# This looks pretty good for revolving balance\n",
        "\n",
        "#scaler = MinMaxScaler()\n",
        "#numerical_cols = ['funded_amnt', 'annual_inc', 'revol_bal']\n",
        "#end_col_names = ['MinMax_funded_amnt','MinMax_annual_inc','MinMax_revol_bal']\n",
        "#loan_cleanup[end_col_names] = scaler.fit_transform(loan_cleanup[numerical_cols])\n",
        "\n",
        "\n",
        "# Plot histograms before transformations\n",
        "plt.figure(figsize=(40, 16))\n",
        "plt.subplot(4, 6, 1)\n",
        "plt.hist(loan_cleanup['annual_inc'], bins=30, color='blue', alpha=0.7)\n",
        "plt.title('Annual Income Before Change')\n",
        "plt.xlabel('Annual Income')\n",
        "plt.ylabel('Frequency')\n",
        "\n",
        "plt.subplot(4, 6, 2)\n",
        "plt.boxplot(loan_cleanup['annual_inc'])\n",
        "plt.title('Boxplot of Annual Income Before Change')\n",
        "\n",
        "plt.subplot(4, 6, 3)\n",
        "plt.hist(loan_cleanup['revol_bal'], bins=30, color='blue', alpha=0.7)\n",
        "plt.title('Revolving Balance Before Change')\n",
        "plt.xlabel('Revolving Balance')\n",
        "plt.ylabel('Frequency')\n",
        "\n",
        "plt.subplot(4, 6, 4)\n",
        "plt.boxplot(loan_cleanup['revol_bal'])\n",
        "plt.title('Boxplot of Revolving Balance Before Change')\n",
        "\n",
        "plt.subplot(4, 6, 5)\n",
        "plt.hist(loan_cleanup['funded_amnt'], bins=30, color='blue', alpha=0.7)\n",
        "plt.title('Loan Amount Before Change')\n",
        "plt.xlabel('Loan Amount')\n",
        "plt.ylabel('Frequency')\n",
        "\n",
        "plt.subplot(4, 6, 6)\n",
        "plt.boxplot(loan_cleanup['funded_amnt'])\n",
        "plt.title('Boxplot of Loan Amount Before Change')\n",
        "\n",
        "# Plot histograms after Winsorization\n",
        "plt.subplot(4, 6, 7)\n",
        "plt.hist(winsorize(loan_cleanup['annual_inc'], limits=[0.05, 0.05]), bins=30, color='green', alpha=0.7)\n",
        "plt.title('Annual Income After Winsorization')\n",
        "plt.xlabel('Annual Income')\n",
        "plt.ylabel('Frequency')\n",
        "\n",
        "plt.subplot(4, 6, 8)\n",
        "plt.boxplot(winsorize(loan_cleanup['annual_inc'], limits=[0.05, 0.05]))\n",
        "plt.title('Boxplot of Annual Income After Winsorization')\n",
        "\n",
        "plt.subplot(4, 6, 9)\n",
        "plt.hist(winsorize(loan_cleanup['revol_bal'], limits=[0.05, 0.05]), bins=30, color='green', alpha=0.7)\n",
        "plt.title('Revolving Balance After Winsorization')\n",
        "plt.xlabel('Revolving Balance')\n",
        "plt.ylabel('Frequency')\n",
        "\n",
        "plt.subplot(4, 6, 10)\n",
        "plt.boxplot(winsorize(loan_cleanup['revol_bal'], limits=[0.05, 0.05]))\n",
        "plt.title('Boxplot of Revolving Balance After Winsorization')\n",
        "\n",
        "plt.subplot(4, 6, 11)\n",
        "plt.hist(winsorize(loan_cleanup['funded_amnt'], limits=[0.05, 0.05]), bins=30, color='green', alpha=0.7)\n",
        "plt.title('Loan Amount After Winsorization')\n",
        "plt.xlabel('Loan Amount')\n",
        "plt.ylabel('Frequency')\n",
        "\n",
        "plt.subplot(4, 6, 12)\n",
        "plt.boxplot(winsorize(loan_cleanup['funded_amnt'], limits=[0.05, 0.05]))\n",
        "plt.title('Boxplot of Loan Amount After Winsorization')\n",
        "\n",
        "\n",
        "# Plot histograms after Log Transformation\n",
        "plt.subplot(4, 6, 13)\n",
        "plt.hist(np.log1p(loan_cleanup['annual_inc']), bins=30, color='green', alpha=0.7)\n",
        "plt.title('Annual Income After Log Transformation')\n",
        "plt.xlabel('Annual Income (Log Transformed)')\n",
        "plt.ylabel('Frequency')\n",
        "\n",
        "plt.subplot(4, 6, 14)\n",
        "plt.hist(np.log1p(winsorize(loan_cleanup['annual_inc'], limits=[0.05, 0.05])), bins=30, color='green', alpha=0.7)\n",
        "plt.title('Annual Income After Log and Winsorizing')\n",
        "plt.xlabel('Annual Income (Double Scaled)')\n",
        "plt.ylabel('Frequency')\n",
        "\n",
        "plt.subplot(4, 6, 15)\n",
        "plt.hist(np.log1p(loan_cleanup['revol_bal']), bins=30, color='green', alpha=0.7)\n",
        "plt.title('Revolving Balance After Log Transformation')\n",
        "plt.xlabel('Revolving Balance (Log Transformed)')\n",
        "plt.ylabel('Frequency')\n",
        "\n",
        "plt.subplot(4, 6, 16)\n",
        "plt.hist(np.log1p(winsorize(loan_cleanup['revol_bal'], limits=[0.05, 0.05])), bins=30, color='green', alpha=0.7)\n",
        "plt.title('Revolving Balance After Log and Winsorizing')\n",
        "plt.xlabel('Revolving Balance (Double Scaled)')\n",
        "plt.ylabel('Frequency')\n",
        "\n",
        "plt.subplot(4, 6, 17)\n",
        "plt.hist(np.log1p(loan_cleanup['funded_amnt']), bins=30, color='green', alpha=0.7)\n",
        "plt.title('Loan Amount After Log Transformation')\n",
        "plt.xlabel('Loan Amount (Log Transformed)')\n",
        "plt.ylabel('Frequency')\n",
        "\n",
        "plt.subplot(4, 6, 18)\n",
        "plt.hist(np.log1p(winsorize(loan_cleanup['funded_amnt'], limits=[0.05, 0.05])), bins=30, color='green', alpha=0.7)\n",
        "plt.title('Loan Amount After Log and Winsorizing')\n",
        "plt.xlabel('Loan Amount (Double Scaled)')\n",
        "plt.ylabel('Frequency')\n",
        "\n",
        "# Plot histograms after Min-Max scaling\n",
        "scaler = MinMaxScaler()\n",
        "\n",
        "plt.subplot(4, 6, 19)\n",
        "plt.hist(scaler.fit_transform(loan_cleanup[['annual_inc']]), bins=30, color='green', alpha=0.7)\n",
        "plt.title('Loan Amount After Min-Max Scaling')\n",
        "plt.xlabel('Loan Amount (Min-Max Scaled)')\n",
        "plt.ylabel('Frequency')\n",
        "\n",
        "plt.subplot(4, 6, 21)\n",
        "plt.hist(scaler.fit_transform(loan_cleanup[['revol_bal']]), bins=30, color='green', alpha=0.7)\n",
        "plt.title('Revolving Balance After Min-Max Scaling')\n",
        "plt.xlabel('Revolving Balance (Min-Max Scaled)')\n",
        "plt.ylabel('Frequency')\n",
        "\n",
        "plt.subplot(4, 6, 23)\n",
        "plt.hist(scaler.fit_transform(loan_cleanup[['funded_amnt']]), bins=30, color='green', alpha=0.7)\n",
        "plt.title('Loan Amount After Min-Max Scaling')\n",
        "plt.xlabel('Loan Amount (Min-Max Scaled)')\n",
        "plt.ylabel('Frequency')\n",
        "\n",
        "plt.tight_layout()\n",
        "plt.show()"
      ],
      "metadata": {
        "id": "jh6J0k9QJ6UP",
        "cellView": "form"
      },
      "execution_count": null,
      "outputs": []
    },
    {
      "cell_type": "markdown",
      "source": [
        "## EDA from Vishnu"
      ],
      "metadata": {
        "id": "YnHtQ0FoNY-R"
      }
    },
    {
      "cell_type": "code",
      "source": [
        "# @title What is the distribution of loan status in the dataset?\n",
        "\n",
        "# Calculate value counts for loan_status\n",
        "counts = loan_cleanup['loan_status'].value_counts()\n",
        "\n",
        "plt.figure(figsize=(12, 6))\n",
        "sns.barplot(x=counts.index, y=counts.values, palette='Set3')\n",
        "\n",
        "plt.title('Loan Status Distribution')\n",
        "plt.xlabel('Loan Status')\n",
        "plt.ylabel('Count')\n",
        "\n",
        "# Annotate each bar with its count\n",
        "for i, count in enumerate(counts):\n",
        "    plt.text(i, count + 0.1, str(count), ha='center', va='bottom')\n",
        "\n",
        "plt.xticks(rotation=45)\n",
        "plt.show()"
      ],
      "metadata": {
        "id": "1AyXedWDNYPW",
        "cellView": "form"
      },
      "execution_count": null,
      "outputs": []
    },
    {
      "cell_type": "code",
      "source": [
        "# @title What are the proportions of different loan purposes?\n",
        "# Calculate value counts for loan purpose\n",
        "counts = loan_cleanup['purpose'].value_counts()\n",
        "\n",
        "plt.figure(figsize=(12, 6))\n",
        "sns.countplot(y='purpose', data=loan_cleanup, order=loan_cleanup['purpose'].value_counts().index)\n",
        "\n",
        "plt.title('Loan Purpose Distribution')\n",
        "plt.xlabel('Count')\n",
        "plt.ylabel('Loan Purpose')\n",
        "\n",
        "# Annotate each bar with its count\n",
        "for i, count in enumerate(counts):\n",
        "    plt.text(count + 0.1, i, str(count), ha='left', va='center')\n",
        "\n",
        "plt.show()"
      ],
      "metadata": {
        "id": "mkocry-ONpnk",
        "cellView": "form"
      },
      "execution_count": null,
      "outputs": []
    },
    {
      "cell_type": "code",
      "source": [
        "# @title How does the employment length affect the loan status?\n",
        "\n",
        "grouped_data = loan_cleanup.groupby(['emp_length', 'loan_status']).size().reset_index(name='count')\n",
        "\n",
        "# Creating the interactive plot\n",
        "fig = px.bar(grouped_data, x='emp_length', y='count', color='loan_status',\n",
        "             barmode='group', labels={'emp_length': 'Employment Length', 'count': 'Count (Log)',\n",
        "                                       'loan_status': 'Loan Status'},\n",
        "             title='Employment Length vs Loan Status',\n",
        "             width=1500, height=600,log_y=True)\n",
        "\n",
        "# Show the plot\n",
        "fig.show()"
      ],
      "metadata": {
        "id": "pttdQN50N2lE",
        "cellView": "form"
      },
      "execution_count": null,
      "outputs": []
    },
    {
      "cell_type": "code",
      "source": [
        "# @title What are the correlations between different variables in the data?\n",
        "\n",
        "# Correlation Heatmap\n",
        "plt.figure(figsize=(12, 8))\n",
        "sns.heatmap(pd.get_dummies(loan_cleanup, columns=['loan_status']).corr(),  cmap='coolwarm')\n",
        "plt.title('Correlation Heatmap')\n",
        "plt.show()"
      ],
      "metadata": {
        "id": "b_47i945OM6R",
        "cellView": "form"
      },
      "execution_count": null,
      "outputs": []
    },
    {
      "cell_type": "code",
      "source": [
        "# @title How do the distributions of important numerical features vary between different loan statuses?\n",
        "\n",
        "# Boxplot of Important Numerical Features by Loan Status\n",
        "important_numerical_features = ['funded_amnt', 'int_rate', 'annual_inc', 'dti']\n",
        "for feature in important_numerical_features:\n",
        "    plt.figure(figsize=(20, 8))\n",
        "    sns.boxplot(data=loan_cleanup, x='loan_status', y=feature)\n",
        "    plt.title(f'{feature} by Loan Status')\n",
        "    plt.xlabel('Loan Status')\n",
        "    plt.ylabel(feature)\n",
        "    plt.xticks(rotation=90)\n",
        "    plt.show()"
      ],
      "metadata": {
        "id": "b89clp2MOULS",
        "cellView": "form"
      },
      "execution_count": null,
      "outputs": []
    },
    {
      "cell_type": "code",
      "source": [
        "# @title How do the default rates vary across different loan grades?\n",
        "\n",
        "# Default Rate by Grade\n",
        "default_rate_by_grade = loan_cleanup.groupby(loan_cleanup['sub_grade'].str.slice(0,1))['loan_status'].value_counts(normalize=True).unstack()\n",
        "plt.figure(figsize=(14, 8))\n",
        "sns.heatmap(default_rate_by_grade, annot=True, cmap='coolwarm')\n",
        "plt.title('Default Rate by Grade')\n",
        "plt.xlabel('Loan Status')\n",
        "plt.ylabel('Grade')\n",
        "plt.show()"
      ],
      "metadata": {
        "id": "K9eXbcnSObPF",
        "cellView": "form"
      },
      "execution_count": null,
      "outputs": []
    },
    {
      "cell_type": "code",
      "source": [
        "# @title How do the default rates vary across different loan subgrades?\n",
        "\n",
        "# Default Rate by Subgrade\n",
        "default_rate_by_subgrade = loan_cleanup.groupby('sub_grade')['loan_status'].value_counts(normalize=True).unstack()\n",
        "plt.figure(figsize=(14, 8))\n",
        "sns.heatmap(default_rate_by_subgrade, annot=True, cmap='coolwarm')\n",
        "plt.title('Default Rate by Subgrade')\n",
        "plt.xlabel('Loan Status')\n",
        "plt.ylabel('Subgrade')\n",
        "plt.show()"
      ],
      "metadata": {
        "id": "weJ9Oya4OiQW",
        "cellView": "form"
      },
      "execution_count": null,
      "outputs": []
    },
    {
      "cell_type": "code",
      "source": [
        "# @title How does the relationship between loan amount and interest rate vary based on loan status?\n",
        "fig = px.scatter(loan_cleanup.sample(10000), x='funded_amnt', y='int_rate', color='loan_status',\n",
        "                 title='Loan Amount vs. Interest Rate',\n",
        "                 labels={'funded_amnt': 'Loan Amount', 'int_rate': 'Interest Rate'})\n",
        "fig.show()"
      ],
      "metadata": {
        "id": "LqTWz1KfOqIe",
        "cellView": "form"
      },
      "execution_count": null,
      "outputs": []
    },
    {
      "cell_type": "code",
      "source": [
        "# @title What is the distribution of debt-to-income ratios for different loan statuses?\n",
        "\n",
        "fig = px.histogram(loan_cleanup, x='dti', color='loan_status',\n",
        "                   title='Debt-to-Income Ratio Distribution',\n",
        "                   labels={'dti': 'Debt-to-Income Ratio'})\n",
        "fig.show()"
      ],
      "metadata": {
        "id": "xTetlJmAOxST",
        "cellView": "form"
      },
      "execution_count": null,
      "outputs": []
    },
    {
      "cell_type": "code",
      "source": [
        "# @title How do default rates fluctuate over time?\n",
        "\n",
        "# Time Series Analysis of Proportion of People Who Default\n",
        "\n",
        "default_rate_over_time = loan_cleanup.groupby('issue_month')['loan_status'] \\\n",
        "    .apply(lambda x: ((x == 'Charged Off')).sum() / len(x)).reset_index(name='default_rate')\n",
        "\n",
        "fig = px.line(default_rate_over_time, x='issue_month', y='default_rate',\n",
        "              labels={'issue_d': 'Issue Date', 'default_rate': 'Default Rate'},\n",
        "              title='Time Series Analysis of Proportion of People Who Default')\n",
        "\n",
        "fig.show()"
      ],
      "metadata": {
        "id": "112bh2cFO4cc",
        "cellView": "form"
      },
      "execution_count": null,
      "outputs": []
    },
    {
      "cell_type": "code",
      "source": [
        "# @title How are the loan statuses separated in a lower-dimensional space using PCA?\n",
        "\n",
        "# Principal Component Analysis (PCA) Visualization\n",
        "from sklearn.decomposition import PCA\n",
        "\n",
        "pca = PCA(n_components=2)\n",
        "X_pca = pca.fit_transform(loan_cleanup[['funded_amnt', 'int_rate', 'annual_inc', 'dti']])\n",
        "loan_cleanup_df_pca = pd.DataFrame(data=X_pca, columns=['PC1', 'PC2'])\n",
        "loan_cleanup_df_pca['loan_status'] = loan_cleanup['loan_status']\n",
        "\n",
        "fig = px.scatter(loan_cleanup_df_pca.sample(5000), x='PC1', y='PC2', color='loan_status',\n",
        "                 title='PCA Visualization of Important Numerical Features',\n",
        "                 labels={'PC1': 'Principal Component 1', 'PC2': 'Principal Component 2'})\n",
        "fig.show()\n"
      ],
      "metadata": {
        "id": "c67F1EokPh_q",
        "cellView": "form"
      },
      "execution_count": null,
      "outputs": []
    },
    {
      "cell_type": "code",
      "source": [
        "# @title What are the pairwise relationships between important numerical features and loan status?\n",
        "\n",
        "fig = px.scatter_matrix(loan_cleanup.sample(1000), dimensions=['funded_amnt', 'int_rate', 'annual_inc', 'dti'], color='loan_status',\n",
        "                        title='Leveraged Scatter Plot Matrix', template='plotly', width=1300, height=1300)\n",
        "fig.update_traces(marker=dict(size=3))\n",
        "fig.show()"
      ],
      "metadata": {
        "id": "A2ytRLafPqiW",
        "cellView": "form"
      },
      "execution_count": null,
      "outputs": []
    },
    {
      "cell_type": "markdown",
      "source": [
        "## Other EDA"
      ],
      "metadata": {
        "id": "uH-SBM5JUkUD"
      }
    },
    {
      "cell_type": "code",
      "source": [
        "# @title Statewide Default Rates\n",
        "states = loan_cleanup['addr_state'].unique()\n",
        "paid =[];\n",
        "default = [];\n",
        "\n",
        "for x in states:\n",
        "  paid.append(loan_cleanup.query(f'loan_status == \"Fully Paid\" & addr_state == \"{x}\"')['loan_status'].count())\n",
        "  default.append(loan_cleanup.query(f'loan_status == \"Charged Off\" & addr_state == \"{x}\"')['loan_status'].count())\n",
        "\n",
        "dat = pd.DataFrame(zip(states,paid,default), columns = ['states','fully paid','defaulted'])\n",
        "dat['ratio'] = dat['defaulted']/dat['fully paid']\n",
        "\n",
        "dat['percentage of defaults'] = dat['defaulted']/(dat['defaulted'] + dat['fully paid'])\n",
        "\n",
        "display(dat.sort_values('percentage of defaults',ascending = False))"
      ],
      "metadata": {
        "cellView": "form",
        "id": "POsnpgXmRSbP"
      },
      "execution_count": null,
      "outputs": []
    }
  ]
}